{
 "cells": [
  {
   "cell_type": "code",
   "execution_count": 1,
   "metadata": {},
   "outputs": [],
   "source": [
    "#라이브러리 로드\n",
    "from openpyxl import Workbook, load_workbook"
   ]
  },
  {
   "cell_type": "code",
   "execution_count": 5,
   "metadata": {},
   "outputs": [],
   "source": [
    "wb = Workbook()  #워크북 객체 생성\n",
    "\n",
    "ws = wb.active  #활성화된 워크 시트 가져오기\n",
    "ws.title = \"test\" #워크시트 이름 바꾸기\n",
    "\n",
    "wb.save(\"sample1.xlsx\")\n",
    "wb.close()"
   ]
  },
  {
   "cell_type": "code",
   "execution_count": 7,
   "metadata": {},
   "outputs": [
    {
     "name": "stdout",
     "output_type": "stream",
     "text": [
      "['Sheet', 'MySheet', '급여명세']\n"
     ]
    }
   ],
   "source": [
    "wb = Workbook()  #워크북 객체 생성\n",
    "#새로운 시트 생성\n",
    "ws = wb.create_sheet()\n",
    "ws.title = \"MySheet\"\n",
    "ws.sheet_properties.tabColor = \"ff66ff\"\n",
    "\n",
    "ws2 = wb.create_sheet(\"급여명세\",2)\n",
    "#특정 시트에 접근\n",
    "sheet1 = wb[\"MySheet\"]\n",
    "sheet1[\"A1\"] = \"Test\"\n",
    "#생성된 모든시트의 이름 출력\n",
    "print(wb.sheetnames)\n",
    "#sheet복사\n",
    "target = wb.copy_worksheet(sheet1)\n",
    "target.title = \"Copied Sheet\"\n",
    "\n",
    "wb.save(\"sample2.xlsx\")\n",
    "wb.close()"
   ]
  },
  {
   "cell_type": "code",
   "execution_count": 23,
   "metadata": {},
   "outputs": [
    {
     "name": "stdout",
     "output_type": "stream",
     "text": [
      "<Cell 'Test'.A2>\n",
      "2\n",
      "1\n"
     ]
    }
   ],
   "source": [
    "from random import *\n",
    "\n",
    "wb = Workbook()\n",
    "ws = wb.active\n",
    "ws.title = \"Test\"\n",
    "\n",
    "#A1 셀에 1이라는 값 입력\n",
    "ws[\"a1\"] =1\n",
    "ws[\"a2\"] =2\n",
    "ws[\"a3\"] =3\n",
    "\n",
    "#b1~b3 숫자 입력\n",
    "ws[\"b1\"] =4\n",
    "ws[\"b2\"] =5\n",
    "ws[\"b3\"] =6\n",
    "\n",
    "#특정 셀 정보 출력\n",
    "print(ws[\"a2\"])\n",
    "print(ws[\"a2\"].value)\n",
    "\n",
    "#셀에 접근하는 두번째 방법\n",
    "#row = 1,2,3..\n",
    "#colum = a,b...\n",
    "\n",
    "print(ws.cell(row=1,column=1).value)\n",
    "\n",
    "\n",
    "#반복문을 사용해서 랜덤 숫자 채우기\n",
    "for x in range(1,11):\n",
    "    for y in range(1,11):\n",
    "        ws.cell(row=x, column=y, value=randint(0,100))\n",
    "        \n",
    "wb.save(\"sample1.xlsx\")\n",
    "wb.close()"
   ]
  },
  {
   "cell_type": "code",
   "execution_count": 27,
   "metadata": {},
   "outputs": [
    {
     "name": "stdout",
     "output_type": "stream",
     "text": [
      "88 54 62 23 24 42 73 48 88 13 \n",
      "91 66 33 38 22 67 26 90 87 54 \n",
      "48 58 80 60 24 30 5 5 72 55 \n",
      "5 62 13 6 76 59 38 17 1 68 \n",
      "81 78 65 94 8 5 2 10 16 57 \n",
      "76 92 60 16 8 6 13 80 45 79 \n",
      "16 14 56 47 98 53 46 0 26 77 \n",
      "90 3 98 1 29 78 58 53 23 82 \n",
      "43 16 75 62 10 93 60 43 38 3 \n",
      "93 51 42 15 91 68 59 15 3 60 \n"
     ]
    }
   ],
   "source": [
    "from openpyxl import load_workbook\n",
    "\n",
    "wb=load_workbook(\"sample1.xlsx\")\n",
    "ws = wb.active\n",
    "\n",
    "# 시트 안에 들어있는 데이터의 갯수를 정확하게 알고 있을 때\n",
    "# for x in range(1,11):\n",
    "#     for y in range(1,11):\n",
    "#         print(ws.cell(row=x, column=y).value, end=\" \")\n",
    "#     print()\n",
    "\n",
    "# max_row / max_column\n",
    "for x in range(1,ws.max_row+1):\n",
    "    for y in range(1,ws.max_column+1):\n",
    "        print(ws.cell(row=x, column=y).value, end=\" \")\n",
    "    print()\n",
    "wb.close()"
   ]
  },
  {
   "cell_type": "code",
   "execution_count": 39,
   "metadata": {},
   "outputs": [
    {
     "name": "stdout",
     "output_type": "stream",
     "text": [
      "(<Cell 'Sheet'.B1>, <Cell 'Sheet'.B2>, <Cell 'Sheet'.B3>, <Cell 'Sheet'.B4>, <Cell 'Sheet'.B5>, <Cell 'Sheet'.B6>, <Cell 'Sheet'.B7>, <Cell 'Sheet'.B8>, <Cell 'Sheet'.B9>, <Cell 'Sheet'.B10>, <Cell 'Sheet'.B11>)\n",
      "영어\n",
      "70\n",
      "93\n",
      "21\n",
      "90\n",
      "66\n",
      "51\n",
      "12\n",
      "65\n",
      "57\n",
      "69\n",
      "영어 70 93 21 90 66 51 12 65 57 69 \n",
      "수학 25 88 7 55 52 25 64 8 68 86 \n",
      "1 70 25 \n",
      "2 93 88 \n",
      "3 21 7 \n",
      "4 90 55 \n",
      "5 66 52 \n",
      "6 51 25 \n"
     ]
    }
   ],
   "source": [
    "from openpyxl import Workbook,load_workbook\n",
    "\n",
    "wb = Workbook()\n",
    "ws = wb.active\n",
    "\n",
    "# 리스트 형태로 데이터 삽입\n",
    "# 리스트 [] : 아무거나 담을 수 있음\n",
    "\n",
    "ws.append([\"번호\",\"영어\",\"수학\"])\n",
    "for i in range(1,11):\n",
    "    ws.append([i, randint(0,100), randint(0,100)])\n",
    "\n",
    "# 특정 과목 - 영어 컬럼의 점수 출력\n",
    "\n",
    "# for x in range(1,ws.max_row+1):\n",
    "#     for y in range(2,3):\n",
    "#         print(ws.cell(row=x, column=y).value, end=\" \")\n",
    "#     print()\n",
    "\n",
    "print(ws['b'])\n",
    "\n",
    "for cell in ws['b']:\n",
    "    print(cell.value)\n",
    "\n",
    "for cols in ws['b:c']:\n",
    "    for cell in cols:\n",
    "        print(cell.value, end=\" \")\n",
    "    print()\n",
    "\n",
    "for rows in ws['2:7']:\n",
    "    for cell in rows:\n",
    "        print(cell.value, end=\" \")\n",
    "    print()\n",
    "\n",
    "\n",
    "# iter_rows() : 전체 rows를 가져오는 함수, iter_cols() : 전체 cols가져오는 함수\n",
    "\n",
    "\n",
    "wb.save(\"range.xlsx\")\n",
    "wb.close()"
   ]
  },
  {
   "cell_type": "code",
   "execution_count": 15,
   "metadata": {},
   "outputs": [
    {
     "name": "stdout",
     "output_type": "stream",
     "text": [
      "2 번 학생의 영어 점수는  93 입니다\n",
      "4 번 학생의 영어 점수는  90 입니다\n"
     ]
    }
   ],
   "source": [
    "# range.xlsx 읽기\n",
    "\n",
    "wb = load_workbook(\"range.xlsx\")\n",
    "ws = wb.active\n",
    "\n",
    "for row in ws.iter_rows(min_row=2):\n",
    "    if int(row[1].value) > 80:\n",
    "        print(row[0].value, \"번 학생의 영어 점수는 \", row[1].value, \"입니다\")\n",
    "\n",
    "# 영어 과목명을 컴퓨터로 변경 후 새로운 엑셀 파일로 저장\n",
    "for row in ws.iter_rows(max_row=1):\n",
    "    for cell in row:\n",
    "        if cell.value == \"영어\":\n",
    "            cell.value = \"컴퓨터\"\n",
    "\n",
    "wb.save(\"range_modified.xlsx\")\n",
    "wb.close()"
   ]
  },
  {
   "cell_type": "code",
   "execution_count": 12,
   "metadata": {},
   "outputs": [],
   "source": [
    "# 행, 열 삽입\n",
    "wb = load_workbook(\"range.xlsx\")\n",
    "ws = wb.active\n",
    "\n",
    "# ws.insert_rows(8)\n",
    "\n",
    "ws.insert_rows(8,5)\n",
    "\n",
    "ws.insert_cols(2,3)\n",
    "\n",
    "wb.save(\"range_insert.xlsx\")\n",
    "wb.close()"
   ]
  },
  {
   "cell_type": "code",
   "execution_count": 14,
   "metadata": {},
   "outputs": [],
   "source": [
    "# 행, 열 삽입\n",
    "wb = load_workbook(\"range.xlsx\")\n",
    "ws = wb.active\n",
    "\n",
    "# ws.delete_rows(8)\n",
    "ws.delete_cols(1,2)\n",
    "\n",
    "wb.save(\"range_insert.xlsx\")\n",
    "wb.close()"
   ]
  },
  {
   "cell_type": "code",
   "execution_count": 13,
   "metadata": {},
   "outputs": [],
   "source": [
    "# 차트 작성\n",
    "\n",
    "from openpyxl.chart import LineChart,Reference\n",
    "\n",
    "wb = load_workbook(\"range.xlsx\")\n",
    "ws = wb.active\n",
    "\n",
    "# 범위 지정\n",
    "line_value = Reference(ws, min_row=2, max_row=11, min_col=2, max_col=3)\n",
    "\n",
    "#차트 종류 지정\n",
    "line_chart = LineChart()\n",
    "#차트 데이터 추가(title_from_data=True : 범위에 제목 행 들어가 있는 경우 )\n",
    "line_chart.add_data(line_value, titles_from_data=True)\n",
    "\n",
    "line_chart.title = \"성적표\"\n",
    "line_chart.stlye = 20\n",
    "line_chart.y_axis.title = \"점수\"\n",
    "line_chart.x_axis.title = \"번호\"\n",
    "\n",
    "\n",
    "ws.add_chart(line_chart,\"E1\")\n",
    "\n",
    "wb.save(\"range_chart.xlsx\")\n",
    "wb.close()\n",
    "\n",
    "\n"
   ]
  },
  {
   "cell_type": "code",
   "execution_count": 20,
   "metadata": {},
   "outputs": [],
   "source": [
    "#셀서식(너비, 높이, 폰트, 테두리...)\n",
    "\n",
    "from openpyxl.styles import Font, Border, Alignment, PatternFill\n",
    "from openpyxl.styles.borders import Side\n",
    "\n",
    "wb = load_workbook(\"range.xlsx\")\n",
    "ws = wb.active\n",
    "\n",
    "#셀 너비 조절\n",
    "ws.column_dimensions[\"A\"].width = 5\n",
    "\n",
    "#행 높이 조절\n",
    "ws.row_dimensions[1].height = 50\n",
    "\n",
    "#특정 셀에 서로 다른 폰트 스타일 적용\n",
    "a1 = ws[\"A1\"]\n",
    "b1 = ws[\"B1\"]\n",
    "c1 = ws[\"C1\"]\n",
    "\n",
    "a1.font = Font(color=\"ff0000\",italic=True,bold=True)\n",
    "b1.font = Font(color=\"cc33ff\", name=\"Arial\", strike=True)\n",
    "c1.font = Font(color=\"0000ff\", size=20, underline=\"single\")\n",
    "\n",
    "#테두리\n",
    "thin_border = Border(left=Side(style=\"thin\"),right=Side(style=\"dashed\"),\n",
    "                    top=Side(style=\"dotted\"),bottom=Side(style=\"double\") )\n",
    "\n",
    "a1.border = thin_border\n",
    "c1.border = thin_border\n",
    "\n",
    "#셀 정렬 및 배경색\n",
    "for row in ws.rows:\n",
    "    for cell in row:\n",
    "        \n",
    "        cell.alignment = Alignment(horizontal=\"center\", vertical=\"center\")\n",
    "\n",
    "        if cell.column ==1:\n",
    "            continue\n",
    "\n",
    "        # isinstance(값, 타입) : 값이 타입 이니? \n",
    "        if isinstance(cell.value, int) and cell.value >80:\n",
    "            cell.fill = PatternFill(fgColor=\"00ff00\", fill_type=\"solid\")\n",
    "            cell.font = Font(color=\"ff0000\")\n",
    "\n",
    "wb.save(\"range_style.xlsx\")\n",
    "wb.close()"
   ]
  },
  {
   "cell_type": "code",
   "execution_count": 26,
   "metadata": {},
   "outputs": [],
   "source": [
    "#함수 삽입\n",
    "\n",
    "from datetime import datetime\n",
    "from openpyxl import Workbook\n",
    "\n",
    "wb= Workbook()\n",
    "ws = wb.active\n",
    "\n",
    "#날짜 넣기\n",
    "ws[\"A1\"] = datetime.today()\n",
    "\n",
    "#합계 구하기\n",
    "ws[\"A2\"] = \"=sum(1,2,3)\"\n",
    "#평균 구하기\n",
    "ws[\"A3\"] = \"=average(1,2,3)\"\n",
    "\n",
    "#데이터 삽입 후 엑셀 함수 적용\n",
    "ws[\"A4\"] = 10\n",
    "ws[\"A5\"] = 30\n",
    "ws[\"a6\"] = \"=sum(a4:a5)\"\n",
    "\n",
    "\n",
    "wb.save(\"sample_formula.xlsx\")\n",
    "wb.close()"
   ]
  },
  {
   "cell_type": "code",
   "execution_count": null,
   "metadata": {},
   "outputs": [],
   "source": []
  }
 ],
 "metadata": {
  "kernelspec": {
   "display_name": "pythonsource",
   "language": "python",
   "name": "python3"
  },
  "language_info": {
   "codemirror_mode": {
    "name": "ipython",
    "version": 3
   },
   "file_extension": ".py",
   "mimetype": "text/x-python",
   "name": "python",
   "nbconvert_exporter": "python",
   "pygments_lexer": "ipython3",
   "version": "3.11.4"
  },
  "orig_nbformat": 4
 },
 "nbformat": 4,
 "nbformat_minor": 2
}
